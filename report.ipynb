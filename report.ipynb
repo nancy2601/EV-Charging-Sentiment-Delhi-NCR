{
 "cells": [
  {
   "cell_type": "markdown",
   "id": "bfd29c84-9049-41c2-8f2d-935298ba4c7e",
   "metadata": {},
   "source": [
    "# EV Charging Infrastructure Sentiment Analysis in Delhi-NCR\n",
    "\n",
    "## Objective\n",
    "\n",
    "To analyze public sentiment toward EV charging stations in Delhi-NCR using Twitter-style social media data.\n",
    "\n",
    "## Methodology\n",
    "\n",
    "- Simulated a Twitter dataset of 20 tweets with real-world tone and concerns\n",
    "- Cleaned the text using `nltk` (stopwords, punctuation, etc.)\n",
    "- Used VADER from `vaderSentiment` to classify sentiment\n",
    "- Visualized tweet sentiment distribution and frequency of complaints\n",
    "- WordClouds and bigrams were used to detect repeating themes\n",
    "\n",
    "## Tools Used\n",
    "\n",
    "- Python, Pandas, Matplotlib, Seaborn, NLTK, WordCloud\n",
    "- VADER for sentiment classification\n",
    "\n",
    "## Insights\n",
    "\n",
    "- Positive tweets highlight efficient stations at IGI Airport, CP, and Vasant Kunj\n",
    "- Most negative tweets were from Noida and Gurgaon due to offline or broken chargers\n",
    "- WordClouds and bigrams showed common frustrations like \"station offline\", \"long wait\", etc.\n",
    "\n",
    "## Recommendations\n",
    "\n",
    "- Improve charger uptime in high-demand areas\n",
    "- Add signage and station availability updates on apps\n",
    "- Expand coverage in East Delhi and Noida sectors\n",
    "\n",
    "## Conclusion\n",
    "\n",
    "This project shows how sentiment analysis on social platforms can inform urban infrastructure improvements and citizen satisfaction.\n"
   ]
  }
 ],
 "metadata": {
  "kernelspec": {
   "display_name": "Python 3 (ipykernel)",
   "language": "python",
   "name": "python3"
  },
  "language_info": {
   "codemirror_mode": {
    "name": "ipython",
    "version": 3
   },
   "file_extension": ".py",
   "mimetype": "text/x-python",
   "name": "python",
   "nbconvert_exporter": "python",
   "pygments_lexer": "ipython3",
   "version": "3.12.7"
  }
 },
 "nbformat": 4,
 "nbformat_minor": 5
}
