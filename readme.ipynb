{
 "cells": [
  {
   "cell_type": "markdown",
   "id": "e4df2df0-9fc0-42ca-93c8-b677e9fa0386",
   "metadata": {},
   "source": [
    "# ⚡ EV Charging Sentiment Analysis – Delhi-NCR (India)\n",
    "\n",
    "This project analyzes public sentiment on electric vehicle (EV) charging infrastructure in the Delhi-NCR region using real-world-style Twitter data. The goal is to extract insights from social media regarding public feedback, issues, and satisfaction about EV charging stations.\n",
    "\n",
    "## 📊 Tools & Techniques Used\n",
    "\n",
    "- Python (Jupyter Notebook)\n",
    "- Natural Language Processing (NLP)\n",
    "- VADER Sentiment Analysis\n",
    "- Data Visualization (Matplotlib, Seaborn, WordCloud)\n",
    "- Text Cleaning (NLTK)\n",
    "\n",
    "## 🔍 Project Workflow\n",
    "\n",
    "1. Data Collection (simulated Twitter dataset)\n",
    "2. Text Cleaning & Preprocessing\n",
    "3. Sentiment Analysis using VADER\n",
    "4. Visualization of sentiments, word frequencies, and tweet behavior\n",
    "5. Insights and recommendations\n",
    "\n",
    "## 📁 Files Included\n",
    "\n",
    "- `EV_Charging_Sentiment_Analysis_Delhi_NCR.ipynb` – Full notebook with code and plots\n",
    "- `EV_Charging_Sentiment_Analysis_Delhi_NCR.csv` – Full dataset with sentiment\n",
    "- `EV_Charging_Tweets_Only.csv` – Raw tweets only\n",
    "- `requirements.txt` – Required Python libraries\n",
    "- `README.md` – This file\n",
    "\n",
    "## 📌 Insights Summary\n",
    "\n",
    "- Majority of positive tweets came from locations with newer charging infrastructure (e.g., CP, IGI Airport)\n",
    "- Common issues were slow chargers, offline stations, and crowding\n",
    "- Sentiment is slightly skewed negative, highlighting the need for better support\n",
    "\n",
    "## 👩‍💻 Author\n",
    "\n",
    "**Nancy**  \n",
    "📫 Email: nancydrall06@email.com  \n",
    "🔗 [LinkedIn](https://linkedin.com/in/nancy2601)  \n",
    "💼 [https://github.com/nancy2601]"
   ]
  }
 ],
 "metadata": {
  "kernelspec": {
   "display_name": "Python 3 (ipykernel)",
   "language": "python",
   "name": "python3"
  },
  "language_info": {
   "codemirror_mode": {
    "name": "ipython",
    "version": 3
   },
   "file_extension": ".py",
   "mimetype": "text/x-python",
   "name": "python",
   "nbconvert_exporter": "python",
   "pygments_lexer": "ipython3",
   "version": "3.12.7"
  }
 },
 "nbformat": 4,
 "nbformat_minor": 5
}
