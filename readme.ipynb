# ⚡ EV Charging Sentiment Analysis – Delhi-NCR (India)

This project analyzes public sentiment on electric vehicle (EV) charging infrastructure in the Delhi-NCR region using real-world-style Twitter data. 
The goal is to extract insights from social media regarding public feedback, issues, and satisfaction about EV charging stations.

## 📊 Tools & Techniques Used

- Python (Jupyter Notebook)
- Natural Language Processing (NLP)
- VADER Sentiment Analysis
- Data Visualization (Matplotlib, Seaborn, WordCloud)
- Text Cleaning (NLTK)

## 🔍 Project Workflow

1. Data Collection (simulated Twitter dataset)
2. Text Cleaning & Preprocessing
3. Sentiment Analysis using VADER
4. Visualization of sentiments, word frequencies, and tweet behavior
5. Insights and recommendations

## 📁 Files Included

- `EV_Charging_Sentiment_Analysis_Delhi_NCR.ipynb` – Full notebook with code and plots
- `EV_Charging_Sentiment_Analysis_Delhi_NCR.csv` – Full dataset with sentiment
- `EV_Charging_Tweets_Only.csv` – Raw tweets only
- `requirements.txt` – Required Python libraries
- `README.md` – This file

## 📌 Insights Summary

- Majority of positive tweets came from locations with newer charging infrastructure (e.g., CP, IGI Airport)
- Common issues were slow chargers, offline stations, and crowding
- Sentiment is slightly skewed negative, highlighting the need for better support

## 👩‍💻 Author

**Nancy**  
📫 Email: nancydrall06@email.com  
🔗 [LinkedIn](https://linkedin.com/in/nancy2601)  
💼 [https://github.com/nancy2601]
